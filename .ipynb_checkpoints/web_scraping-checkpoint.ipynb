{
 "cells": [
  {
   "cell_type": "markdown",
   "id": "07be5796-1490-431a-ac6d-39623307861f",
   "metadata": {},
   "source": [
    "# Web Scraping for Property Sales Data from Rightmove\r\n",
    "This project demonstrates how to scrape data for sold properties in London using Python. The scraped data includes property addresses, sale prices, transaction dates, property types, and more, organized into a structured format (CSV/Excel).\r\n",
    "\r\n",
    "## Objectives\r\n",
    "- Extract comprehensive property data from Rightmove.\r\n",
    "- Handle nested JSON structures and dynamic content.\r\n",
    "- Organize and present the data in a structured f\n",
    "o### Importing Libraries\r\n",
    "The following libraries are used:\r\n",
    "- `BeautifulSoup`: For parsing HTML.\r\n",
    "- `Requests`: To fetch web pages.\r\n",
    "- `JSON`: To handle embedded JSON data.\r\n",
    "- `re`: For regular expressions.\r\n",
    "- `pandas`: For organizing and saving theata.\r\n",
    "SON, Regex\r\n"
   ]
  },
  {
   "cell_type": "code",
   "execution_count": 71,
   "id": "0460ed5c-c8d7-458b-b1a3-616534b95542",
   "metadata": {},
   "outputs": [],
   "source": [
    "from bs4 import BeautifulSoup\n",
    "import requests\n",
    "import json\n",
    "import re\n",
    "import pandas as pd\n",
    "from IPython.display import JSON\n",
    "#from time import sleep\n"
   ]
  },
  {
   "cell_type": "code",
   "execution_count": 72,
   "id": "142c1216-4867-4728-bb0c-3d48c6746f6b",
   "metadata": {},
   "outputs": [],
   "source": [
    "#headers = {'User-Agent': 'Mozilla/5.0 (Windows NT 10.0; Win64; x64) AppleWebKit/537.36 (KHTML, like Gecko) Chrome/58.0.3029.110 Safari/537.3'}"
   ]
  },
  {
   "cell_type": "markdown",
   "id": "26e1e4f4-0075-4a34-a6b3-9d5d10597db4",
   "metadata": {},
   "source": [
    "### fetch_page_data(page_number)\n",
    "Fetches the HTML content of the specified page from the Rightmove website.\n",
    "- **Input**: Page number.\n",
    "- **Output**: Parsed HTML using BeautifulSoup or `None` if the request fails.\n"
   ]
  },
  {
   "cell_type": "code",
   "execution_count": null,
   "id": "bf93a83a-c161-47b4-ac9d-1ebc3fe8bc69",
   "metadata": {},
   "outputs": [],
   "source": [
    "def fetch_page_data(page_number):\n",
    "    URL = f\"https://www.rightmove.co.uk/house-prices/london.html?soldIn=1&pageNumber={page_number}\"\n",
    "    response = requests.get(URL)\n",
    "    if response.status_code == 200:\n",
    "        return BeautifulSoup(response.text, \"html.parser\")\n",
    "    else:\n",
    "        print(f\"Error fetching page {page_number}: {response.status_code}\")\n",
    "        return None"
   ]
  },
  {
   "cell_type": "markdown",
   "id": "b257fab9-3c4b-4a03-a6e9-53fa717470f7",
   "metadata": {},
   "source": [
    "### extract_json_data(soup)\n",
    "Extracts the embedded JSON data from the HTML content.\n",
    "- **Input**: Parsed HTML (`soup` object).\n",
    "- **Output**: JSON object containing property details.\n"
   ]
  },
  {
   "cell_type": "code",
   "execution_count": null,
   "id": "a67d69a9-a0e5-48c0-9f29-6b86adfee1e4",
   "metadata": {},
   "outputs": [],
   "source": [
    "def extract_json_data(soup):\n",
    "    html = soup.find('script', type=\"text/javascript\")\n",
    "    if html:\n",
    "        match = re.search(r'window\\.PAGE_MODEL\\s*=\\s*(\\{.*?\\});', html.string, re.DOTALL)\n",
    "        if match:\n",
    "            return json.loads(match.group(1))\n",
    "    return None"
   ]
  },
  {
   "cell_type": "markdown",
   "id": "46e7a966-1204-4af2-baae-c56f0c6679ec",
   "metadata": {},
   "source": [
    "### extract_properties_from_json(json_data)\n",
    "Processes the JSON data and extracts property details such as:\n",
    "- Address\n",
    "- Bedrooms\n",
    "- Property type\n",
    "- Sale prices\n",
    "- Sale dates\n",
    "- Geolocation (latitude and longitude)\n",
    "- Property URL\n",
    "- **Input**: JSON data.\n",
    "- **Output**: List of property records in dictionary format.\n"
   ]
  },
  {
   "cell_type": "code",
   "execution_count": null,
   "id": "8a8a6c6f-71de-4651-ac9f-125d43a37bc0",
   "metadata": {},
   "outputs": [],
   "source": [
    "def extract_properties_from_json(json_data):\n",
    "    all_properties = []\n",
    "    for property_data in json_data['searchResult']['properties']:\n",
    "        for txn in property_data['transactions']:\n",
    "            record = {\n",
    "                'address': property_data['address'],\n",
    "                'bedrooms': property_data['bedrooms'],\n",
    "                'type': property_data['propertyType'],\n",
    "                'transaction_prices': txn['displayPrice'],\n",
    "                'transaction_dates': txn['dateSold'],\n",
    "                'tenure': txn['tenure'],\n",
    "                'newBuild': txn['newBuild'],\n",
    "                'locationLat': property_data['location']['lat'],\n",
    "                'locationLng': property_data['location']['lng'],\n",
    "                'url': property_data['detailUrl']\n",
    "            }\n",
    "            all_properties.append(record)\n",
    "    return all_properties"
   ]
  },
  {
   "cell_type": "markdown",
   "id": "72d5d593-8be7-4ddf-8eba-b08fadd519c2",
   "metadata": {},
   "source": [
    "### Main Scraper Logic\n",
    "Loops through multiple pages to fetch and parse data:\n",
    "1. Calls `fetch_page_data` to get the HTML content.\n",
    "2. Extracts JSON data using `extract_json_data`.\n",
    "3. Collects property details using `extract_properties_from_json`.\n",
    "4. Combines data from all pages into a single DataFrame.\n"
   ]
  },
  {
   "cell_type": "code",
   "execution_count": 84,
   "id": "dd4af476-6f4e-4afb-acb5-3bea492b223d",
   "metadata": {},
   "outputs": [],
   "source": [
    "\n",
    "all_properties = []\n",
    "for page in range(1, 41):  # Replace with dynamic page number if implemented\n",
    "    soup = fetch_page_data(page)\n",
    "    if not soup:\n",
    "        break\n",
    "    json_data = extract_json_data(soup)\n",
    "    if not json_data:\n",
    "        print(f\"Error parsing JSON on page {page}\")\n",
    "        break\n",
    "    all_properties.extend(extract_properties_from_json(json_data))\n",
    "    #sleep(2)  # Rate limiting"
   ]
  },
  {
   "cell_type": "code",
   "execution_count": 85,
   "id": "28cc42d2-7846-4ad1-bede-b51d22ab1249",
   "metadata": {},
   "outputs": [],
   "source": [
    "#JSON(properties)"
   ]
  },
  {
   "cell_type": "code",
   "execution_count": 86,
   "id": "6e2c94cd-a514-4bee-8a8b-7e2e19adea0f",
   "metadata": {},
   "outputs": [],
   "source": [
    "df = pd.DataFrame(all_properties)\n"
   ]
  },
  {
   "cell_type": "code",
   "execution_count": 87,
   "id": "b88eba7a-43ec-4186-9433-a0c41917a919",
   "metadata": {},
   "outputs": [
    {
     "data": {
      "text/plain": [
       "(2814, 10)"
      ]
     },
     "execution_count": 87,
     "metadata": {},
     "output_type": "execute_result"
    }
   ],
   "source": [
    "df.shape"
   ]
  },
  {
   "cell_type": "markdown",
   "id": "7469b80f-530b-4012-a703-efb20dacb691",
   "metadata": {},
   "source": [
    "### Data Preview\n",
    "Below is a preview of the scraped data:\n"
   ]
  },
  {
   "cell_type": "code",
   "execution_count": 88,
   "id": "bc53b95a-cd78-49df-b63f-65e7d1129720",
   "metadata": {},
   "outputs": [
    {
     "data": {
      "text/html": [
       "<div>\n",
       "<style scoped>\n",
       "    .dataframe tbody tr th:only-of-type {\n",
       "        vertical-align: middle;\n",
       "    }\n",
       "\n",
       "    .dataframe tbody tr th {\n",
       "        vertical-align: top;\n",
       "    }\n",
       "\n",
       "    .dataframe thead th {\n",
       "        text-align: right;\n",
       "    }\n",
       "</style>\n",
       "<table border=\"1\" class=\"dataframe\">\n",
       "  <thead>\n",
       "    <tr style=\"text-align: right;\">\n",
       "      <th></th>\n",
       "      <th>address</th>\n",
       "      <th>bedrooms</th>\n",
       "      <th>type</th>\n",
       "      <th>transaction_prices</th>\n",
       "      <th>transaction_dates</th>\n",
       "      <th>tenure</th>\n",
       "      <th>newBuild</th>\n",
       "      <th>locationLat</th>\n",
       "      <th>locationLng</th>\n",
       "      <th>url</th>\n",
       "    </tr>\n",
       "  </thead>\n",
       "  <tbody>\n",
       "    <tr>\n",
       "      <th>0</th>\n",
       "      <td>Glencoe, Ashfield Avenue, Feltham, Greater Lon...</td>\n",
       "      <td>4.0</td>\n",
       "      <td>DETACHED</td>\n",
       "      <td>£650,000</td>\n",
       "      <td>31 Oct 2024</td>\n",
       "      <td>FREEHOLD</td>\n",
       "      <td>False</td>\n",
       "      <td>51.44575</td>\n",
       "      <td>-0.40430</td>\n",
       "      <td>https://www.rightmove.co.uk/house-prices/detai...</td>\n",
       "    </tr>\n",
       "    <tr>\n",
       "      <th>1</th>\n",
       "      <td>Glencoe, Ashfield Avenue, Feltham, Greater Lon...</td>\n",
       "      <td>4.0</td>\n",
       "      <td>DETACHED</td>\n",
       "      <td>£133,000</td>\n",
       "      <td>15 Sep 1997</td>\n",
       "      <td>FREEHOLD</td>\n",
       "      <td>False</td>\n",
       "      <td>51.44575</td>\n",
       "      <td>-0.40430</td>\n",
       "      <td>https://www.rightmove.co.uk/house-prices/detai...</td>\n",
       "    </tr>\n",
       "    <tr>\n",
       "      <th>2</th>\n",
       "      <td>8, Heathcote Grove, London, Greater London E4 6RT</td>\n",
       "      <td>2.0</td>\n",
       "      <td>SEMI_DETACHED</td>\n",
       "      <td>£282,500</td>\n",
       "      <td>31 Oct 2024</td>\n",
       "      <td>FREEHOLD</td>\n",
       "      <td>False</td>\n",
       "      <td>51.62463</td>\n",
       "      <td>-0.00579</td>\n",
       "      <td>https://www.rightmove.co.uk/house-prices/detai...</td>\n",
       "    </tr>\n",
       "    <tr>\n",
       "      <th>3</th>\n",
       "      <td>8, Heathcote Grove, London, Greater London E4 6RT</td>\n",
       "      <td>2.0</td>\n",
       "      <td>SEMI_DETACHED</td>\n",
       "      <td>£310,000</td>\n",
       "      <td>14 Oct 2002</td>\n",
       "      <td>FREEHOLD</td>\n",
       "      <td>False</td>\n",
       "      <td>51.62463</td>\n",
       "      <td>-0.00579</td>\n",
       "      <td>https://www.rightmove.co.uk/house-prices/detai...</td>\n",
       "    </tr>\n",
       "    <tr>\n",
       "      <th>4</th>\n",
       "      <td>145, Winterbourne Road, Thornton Heath, Greate...</td>\n",
       "      <td>3.0</td>\n",
       "      <td>TERRACED</td>\n",
       "      <td>£380,000</td>\n",
       "      <td>30 Oct 2024</td>\n",
       "      <td>FREEHOLD</td>\n",
       "      <td>False</td>\n",
       "      <td>51.40127</td>\n",
       "      <td>-0.11027</td>\n",
       "      <td>https://www.rightmove.co.uk/house-prices/detai...</td>\n",
       "    </tr>\n",
       "  </tbody>\n",
       "</table>\n",
       "</div>"
      ],
      "text/plain": [
       "                                             address  bedrooms           type  \\\n",
       "0  Glencoe, Ashfield Avenue, Feltham, Greater Lon...       4.0       DETACHED   \n",
       "1  Glencoe, Ashfield Avenue, Feltham, Greater Lon...       4.0       DETACHED   \n",
       "2  8, Heathcote Grove, London, Greater London E4 6RT       2.0  SEMI_DETACHED   \n",
       "3  8, Heathcote Grove, London, Greater London E4 6RT       2.0  SEMI_DETACHED   \n",
       "4  145, Winterbourne Road, Thornton Heath, Greate...       3.0       TERRACED   \n",
       "\n",
       "  transaction_prices transaction_dates    tenure  newBuild  locationLat  \\\n",
       "0           £650,000       31 Oct 2024  FREEHOLD     False     51.44575   \n",
       "1           £133,000       15 Sep 1997  FREEHOLD     False     51.44575   \n",
       "2           £282,500       31 Oct 2024  FREEHOLD     False     51.62463   \n",
       "3           £310,000       14 Oct 2002  FREEHOLD     False     51.62463   \n",
       "4           £380,000       30 Oct 2024  FREEHOLD     False     51.40127   \n",
       "\n",
       "   locationLng                                                url  \n",
       "0     -0.40430  https://www.rightmove.co.uk/house-prices/detai...  \n",
       "1     -0.40430  https://www.rightmove.co.uk/house-prices/detai...  \n",
       "2     -0.00579  https://www.rightmove.co.uk/house-prices/detai...  \n",
       "3     -0.00579  https://www.rightmove.co.uk/house-prices/detai...  \n",
       "4     -0.11027  https://www.rightmove.co.uk/house-prices/detai...  "
      ]
     },
     "execution_count": 88,
     "metadata": {},
     "output_type": "execute_result"
    }
   ],
   "source": [
    "df.head()"
   ]
  },
  {
   "cell_type": "markdown",
   "id": "11c21fe1-0755-4122-a18f-8d0f68d807d8",
   "metadata": {},
   "source": [
    "### Data Output\n",
    "The collected data is saved to a CSV file named `property_data.csv` for further analysis.\n"
   ]
  },
  {
   "cell_type": "code",
   "execution_count": 89,
   "id": "23caca0c-c5c1-424f-b374-c40d4ce37d70",
   "metadata": {},
   "outputs": [
    {
     "name": "stdout",
     "output_type": "stream",
     "text": [
      "Data successfully saved to property_data.csv\n"
     ]
    }
   ],
   "source": [
    "df.to_csv('property_data.csv', index=False)\n",
    "print(\"Data successfully saved to property_data.csv\")"
   ]
  },
  {
   "cell_type": "code",
   "execution_count": null,
   "id": "3c54a3e7-6dc5-4da1-97c3-c395312e9bd5",
   "metadata": {},
   "outputs": [],
   "source": []
  }
 ],
 "metadata": {
  "kernelspec": {
   "display_name": "Python (venv)",
   "language": "python",
   "name": "venv"
  },
  "language_info": {
   "codemirror_mode": {
    "name": "ipython",
    "version": 3
   },
   "file_extension": ".py",
   "mimetype": "text/x-python",
   "name": "python",
   "nbconvert_exporter": "python",
   "pygments_lexer": "ipython3",
   "version": "3.13.0"
  }
 },
 "nbformat": 4,
 "nbformat_minor": 5
}
